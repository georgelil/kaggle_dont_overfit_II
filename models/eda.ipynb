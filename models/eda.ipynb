{
 "cells": [
  {
   "cell_type": "markdown",
   "metadata": {},
   "source": [
    "# EDA - Exploratory data analysis\n",
    "So as an initial step im going to open up the data\n",
    "and have a look around... (yeah i'll try and fit it also)"
   ]
  },
  {
   "cell_type": "code",
   "execution_count": 54,
   "metadata": {},
   "outputs": [],
   "source": [
    "import numpy as np\n",
    "import pandas as pd\n",
    "import matplotlib.pyplot as plt\n",
    "import seaborn as sns\n",
    "\n",
    "from sklearn import linear_model\n",
    "from sklearn import preprocessing\n",
    "\n",
    "%matplotlib inline"
   ]
  },
  {
   "cell_type": "code",
   "execution_count": 91,
   "metadata": {},
   "outputs": [
    {
     "name": "stdout",
     "output_type": "stream",
     "text": [
      "samples: 250\n",
      "dimensions:  300\n"
     ]
    }
   ],
   "source": [
    "training_data = pd.read_csv('../data/train.csv', index_col=0)\n",
    "training_data.head()\n",
    "\n",
    "test_data = pd.read_csv('../data/test.csv', index_col=0)\n",
    "\n",
    "print('samples:', len(training_data))\n",
    "print('dimensions: ', len(training_data.columns) - 1)"
   ]
  },
  {
   "cell_type": "markdown",
   "metadata": {},
   "source": [
    "more dimensions than samples.. \n",
    "300 dimensions... maybe too many for a histogram table, messy trying to desc"
   ]
  },
  {
   "cell_type": "code",
   "execution_count": 69,
   "metadata": {},
   "outputs": [],
   "source": [
    "Y_train = training_data.loc[:, 'target'].values\n",
    "X_train = training_data.drop('target', axis=1).values\n",
    "\n",
    "X_scaled = preprocessing.scale(X_train)\n",
    "Y_train = Y_train.ravel()"
   ]
  },
  {
   "cell_type": "code",
   "execution_count": 70,
   "metadata": {},
   "outputs": [],
   "source": [
    "X_test = test_data.values\n",
    "X_test = preprocessing.scale(X_test)"
   ]
  },
  {
   "cell_type": "code",
   "execution_count": 90,
   "metadata": {},
   "outputs": [
    {
     "name": "stdout",
     "output_type": "stream",
     "text": [
      "19750\n"
     ]
    }
   ],
   "source": [
    "model = linear_model.LogisticRegression(solver='lbfgs')\n",
    "model.fit(X_scaled, Y_train)\n",
    "\n",
    "output = pd.Series(index=test_data.index, data=model.predict(X_test), name='target')\n",
    "#output = output.append(training_data.loc[:, 'target']).sort_index()\n",
    "output.to_csv('../results/log_submission.csv', header='id')\n",
    "print(len(output))"
   ]
  },
  {
   "cell_type": "code",
   "execution_count": 76,
   "metadata": {},
   "outputs": [
    {
     "name": "stdout",
     "output_type": "stream",
     "text": [
      "       res\n",
      "id        \n",
      "250    0.0\n",
      "251    0.0\n",
      "252    1.0\n",
      "253    1.0\n",
      "254    0.0\n",
      "255    0.0\n",
      "256    0.0\n",
      "257    1.0\n",
      "258    1.0\n",
      "259    0.0\n",
      "260    1.0\n",
      "261    0.0\n",
      "262    0.0\n",
      "263    1.0\n",
      "264    1.0\n",
      "265    1.0\n",
      "266    1.0\n",
      "267    0.0\n",
      "268    0.0\n",
      "269    1.0\n",
      "270    0.0\n",
      "271    1.0\n",
      "272    1.0\n",
      "273    1.0\n",
      "274    1.0\n",
      "275    1.0\n",
      "276    0.0\n",
      "277    1.0\n",
      "278    1.0\n",
      "279    0.0\n",
      "...    ...\n",
      "19970  0.0\n",
      "19971  1.0\n",
      "19972  1.0\n",
      "19973  0.0\n",
      "19974  0.0\n",
      "19975  1.0\n",
      "19976  1.0\n",
      "19977  1.0\n",
      "19978  1.0\n",
      "19979  1.0\n",
      "19980  0.0\n",
      "19981  0.0\n",
      "19982  1.0\n",
      "19983  1.0\n",
      "19984  1.0\n",
      "19985  0.0\n",
      "19986  1.0\n",
      "19987  1.0\n",
      "19988  1.0\n",
      "19989  1.0\n",
      "19990  0.0\n",
      "19991  1.0\n",
      "19992  1.0\n",
      "19993  0.0\n",
      "19994  1.0\n",
      "19995  1.0\n",
      "19996  1.0\n",
      "19997  1.0\n",
      "19998  1.0\n",
      "19999  0.0\n",
      "\n",
      "[19750 rows x 1 columns]\n"
     ]
    }
   ],
   "source": [
    "print(output)"
   ]
  },
  {
   "cell_type": "code",
   "execution_count": null,
   "metadata": {},
   "outputs": [],
   "source": []
  }
 ],
 "metadata": {
  "kernelspec": {
   "display_name": "Python 3",
   "language": "python",
   "name": "python3"
  },
  "language_info": {
   "codemirror_mode": {
    "name": "ipython",
    "version": 3
   },
   "file_extension": ".py",
   "mimetype": "text/x-python",
   "name": "python",
   "nbconvert_exporter": "python",
   "pygments_lexer": "ipython3",
   "version": "3.7.2"
  }
 },
 "nbformat": 4,
 "nbformat_minor": 2
}
